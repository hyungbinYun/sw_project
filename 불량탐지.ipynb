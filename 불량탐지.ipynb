{
  "nbformat": 4,
  "nbformat_minor": 0,
  "metadata": {
    "colab": {
      "provenance": [],
      "gpuType": "T4",
      "authorship_tag": "ABX9TyO9zOj+kgk5Oe/0Uz0MaZz+",
      "include_colab_link": true
    },
    "kernelspec": {
      "name": "python3",
      "display_name": "Python 3"
    },
    "language_info": {
      "name": "python"
    },
    "accelerator": "GPU"
  },
  "cells": [
    {
      "cell_type": "markdown",
      "metadata": {
        "id": "view-in-github",
        "colab_type": "text"
      },
      "source": [
        "<a href=\"https://colab.research.google.com/github/hyungbinYun/sw_project/blob/main/%EB%B6%88%EB%9F%89%ED%83%90%EC%A7%80.ipynb\" target=\"_parent\"><img src=\"https://colab.research.google.com/assets/colab-badge.svg\" alt=\"Open In Colab\"/></a>"
      ]
    },
    {
      "cell_type": "code",
      "execution_count": null,
      "metadata": {
        "id": "wBMuI0otI8J7"
      },
      "outputs": [],
      "source": [
        "import tensorflow as tf\n",
        "from tensorflow import keras\n",
        "from tensorflow.keras import layers"
      ]
    },
    {
      "cell_type": "code",
      "source": [
        "# 데이터 로드 및 데이터 전처리\n",
        "(x_train, y_train), (x_test, y_test) = tf.keras.datasets.mnist.load_data()\n",
        "\n",
        "x_train = x_train.reshape((60000, 28, 28, 1))\n",
        "x_train = x_train.astype('float32') / 255\n",
        "\n",
        "x_test = x_test.reshape((10000, 28, 28, 1))\n",
        "x_test = x_test.astype('float32') / 255"
      ],
      "metadata": {
        "id": "Yy77YMkUJE3w"
      },
      "execution_count": null,
      "outputs": []
    },
    {
      "cell_type": "code",
      "source": [
        "# CNN모델을 정의\n",
        "model = tf.keras.Sequential()\n",
        "model.add(layers.Conv2D(32, (3, 3), activation='relu', input_shape=(28, 28, 1),padding='same'))\n",
        "model.add(layers.MaxPooling2D((2, 2)))\n",
        "model.add(layers.Conv2D(64, (3, 3), activation='relu',padding='same'))\n",
        "model.add(layers.MaxPooling2D((2, 2)))\n",
        "model.add(layers.Conv2D(64, (3, 3), activation='relu',padding='same'))\n",
        "model.add(layers.Flatten())\n",
        "model.add(layers.Dense(64, activation='relu'))\n",
        "model.add(layers.Dense(10, activation='softmax'))\n"
      ],
      "metadata": {
        "id": "0cY2O3QhJE59"
      },
      "execution_count": null,
      "outputs": []
    },
    {
      "cell_type": "code",
      "source": [
        "# 모델을 컴파일 한 후 학습 진행\n",
        "model.compile(optimizer='adam',\n",
        "              loss='sparse_categorical_crossentropy',\n",
        "              metrics=['accuracy'])\n",
        "\n",
        "model.fit(x_train, y_train, epochs=10, batch_size=64)"
      ],
      "metadata": {
        "id": "UFsxJ7yZJE8f",
        "colab": {
          "base_uri": "https://localhost:8080/"
        },
        "outputId": "6be4a982-7a36-4e8e-de93-0ca3b4aa1b53"
      },
      "execution_count": null,
      "outputs": [
        {
          "output_type": "stream",
          "name": "stdout",
          "text": [
            "Epoch 1/10\n",
            "938/938 [==============================] - 8s 6ms/step - loss: 0.0085 - accuracy: 0.9972\n",
            "Epoch 2/10\n",
            "938/938 [==============================] - 7s 7ms/step - loss: 0.0055 - accuracy: 0.9981\n",
            "Epoch 3/10\n",
            "938/938 [==============================] - 5s 6ms/step - loss: 0.0055 - accuracy: 0.9983\n",
            "Epoch 4/10\n",
            "938/938 [==============================] - 6s 7ms/step - loss: 0.0061 - accuracy: 0.9980\n",
            "Epoch 5/10\n",
            "938/938 [==============================] - 5s 6ms/step - loss: 0.0046 - accuracy: 0.9984\n",
            "Epoch 6/10\n",
            "938/938 [==============================] - 6s 6ms/step - loss: 0.0052 - accuracy: 0.9984\n",
            "Epoch 7/10\n",
            "938/938 [==============================] - 5s 6ms/step - loss: 0.0037 - accuracy: 0.9988\n",
            "Epoch 8/10\n",
            "938/938 [==============================] - 6s 6ms/step - loss: 0.0045 - accuracy: 0.9986\n",
            "Epoch 9/10\n",
            "938/938 [==============================] - 5s 6ms/step - loss: 0.0049 - accuracy: 0.9986\n",
            "Epoch 10/10\n",
            "938/938 [==============================] - 7s 7ms/step - loss: 0.0032 - accuracy: 0.9988\n"
          ]
        },
        {
          "output_type": "execute_result",
          "data": {
            "text/plain": [
              "<keras.callbacks.History at 0x7e92a068ad40>"
            ]
          },
          "metadata": {},
          "execution_count": 11
        }
      ]
    },
    {
      "cell_type": "code",
      "source": [
        "# 모델의 학습 진행 후 예측 결과에서 가장 높은 클래스를 선택하고 해당 클래스가 정상인지 불량인지 판\n",
        "def predict_defect(image):\n",
        "    prediction = model.predict(image)\n",
        "    predicted_class = tf.argmax(prediction, axis=1).numpy()[0]\n",
        "    class_labels = [\"정상 제품\", \"불량 제품\"]\n",
        "\n",
        "    if predicted_class == 1:\n",
        "        print(f\"불량 판단: {class_labels[predicted_class]}\")\n",
        "    else:\n",
        "        print(f\"불량 판단: {class_labels[predicted_class]}\")"
      ],
      "metadata": {
        "id": "gbMTsuoEkXvS"
      },
      "execution_count": null,
      "outputs": []
    },
    {
      "cell_type": "code",
      "source": [
        "test_image = x_test[0]  # 예시로 첫 번째 테스트 이미지 사용\n",
        "test_image = tf.expand_dims(test_image, axis=0)  # 배치 차원 추가"
      ],
      "metadata": {
        "id": "CtTxLiXuh9dv"
      },
      "execution_count": null,
      "outputs": []
    },
    {
      "cell_type": "code",
      "source": [
        "test_loss, test_acc = model.evaluate(test_images, test_labels)\n",
        "print('Test accuracy:', test_acc)"
      ],
      "metadata": {
        "id": "liIjnHmnJE-h",
        "colab": {
          "base_uri": "https://localhost:8080/"
        },
        "outputId": "6eb1c178-61b7-447f-f8b4-138a427a391d"
      },
      "execution_count": null,
      "outputs": [
        {
          "output_type": "stream",
          "name": "stdout",
          "text": [
            "313/313 [==============================] - 1s 3ms/step - loss: 0.0486 - accuracy: 0.9913\n",
            "Test accuracy: 0.9912999868392944\n"
          ]
        }
      ]
    },
    {
      "cell_type": "code",
      "source": [
        "class_label = [ predicted_class]\n",
        "(x_test, y_test) = (x_train / 255 , y_train / 255)\n",
        "\n"
      ],
      "metadata": {
        "id": "XriBAjDFJFCw"
      },
      "execution_count": null,
      "outputs": []
    },
    {
      "cell_type": "code",
      "source": [],
      "metadata": {
        "id": "GfNambTRJFE3"
      },
      "execution_count": null,
      "outputs": []
    },
    {
      "cell_type": "code",
      "source": [],
      "metadata": {
        "id": "f0BPwVw8JFG3"
      },
      "execution_count": null,
      "outputs": []
    }
  ]
}